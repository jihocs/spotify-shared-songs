{
  "nbformat": 4,
  "nbformat_minor": 0,
  "metadata": {
    "colab": {
      "name": "Spotify Shared Songs",
      "provenance": [],
      "authorship_tag": "ABX9TyPL6o3TFx37HgIAOKCPYF1x",
      "include_colab_link": true
    },
    "kernelspec": {
      "name": "python3",
      "display_name": "Python 3"
    },
    "language_info": {
      "name": "python"
    }
  },
  "cells": [
    {
      "cell_type": "markdown",
      "metadata": {
        "id": "view-in-github",
        "colab_type": "text"
      },
      "source": [
        "<a href=\"https://colab.research.google.com/github/jihocs/spotify-shared-songs/blob/main/Spotify_Shared_Songs.ipynb\" target=\"_parent\"><img src=\"https://colab.research.google.com/assets/colab-badge.svg\" alt=\"Open In Colab\"/></a>"
      ]
    },
    {
      "cell_type": "markdown",
      "metadata": {
        "id": "ueBhyNUHAmuS"
      },
      "source": [
        "# Spotify Shared Songs\n",
        "\n",
        "Script to get user playlist data using Spotipy and find songs shared between multiple users."
      ]
    },
    {
      "cell_type": "code",
      "metadata": {
        "id": "GKpkRlypC6Y3",
        "colab": {
          "base_uri": "https://localhost:8080/"
        },
        "outputId": "2915782a-e79c-4bb9-a8f2-0bf45b612265"
      },
      "source": [
        "!pip install spotipy"
      ],
      "execution_count": null,
      "outputs": [
        {
          "output_type": "stream",
          "name": "stdout",
          "text": [
            "Collecting spotipy\n",
            "  Downloading spotipy-2.19.0-py3-none-any.whl (27 kB)\n",
            "Collecting requests>=2.25.0\n",
            "  Downloading requests-2.26.0-py2.py3-none-any.whl (62 kB)\n",
            "\u001b[?25l\r\u001b[K     |█████▎                          | 10 kB 24.3 MB/s eta 0:00:01\r\u001b[K     |██████████▌                     | 20 kB 30.7 MB/s eta 0:00:01\r\u001b[K     |███████████████▉                | 30 kB 31.6 MB/s eta 0:00:01\r\u001b[K     |█████████████████████           | 40 kB 14.2 MB/s eta 0:00:01\r\u001b[K     |██████████████████████████▎     | 51 kB 16.4 MB/s eta 0:00:01\r\u001b[K     |███████████████████████████████▋| 61 kB 5.7 MB/s eta 0:00:01\r\u001b[K     |████████████████████████████████| 62 kB 694 kB/s \n",
            "\u001b[?25hRequirement already satisfied: six>=1.15.0 in /usr/local/lib/python3.7/dist-packages (from spotipy) (1.15.0)\n",
            "Collecting urllib3>=1.26.0\n",
            "  Downloading urllib3-1.26.6-py2.py3-none-any.whl (138 kB)\n",
            "\u001b[K     |████████████████████████████████| 138 kB 11.1 MB/s \n",
            "\u001b[?25hRequirement already satisfied: charset-normalizer~=2.0.0 in /usr/local/lib/python3.7/dist-packages (from requests>=2.25.0->spotipy) (2.0.5)\n",
            "Requirement already satisfied: idna<4,>=2.5 in /usr/local/lib/python3.7/dist-packages (from requests>=2.25.0->spotipy) (2.10)\n",
            "Requirement already satisfied: certifi>=2017.4.17 in /usr/local/lib/python3.7/dist-packages (from requests>=2.25.0->spotipy) (2021.5.30)\n",
            "Installing collected packages: urllib3, requests, spotipy\n",
            "  Attempting uninstall: urllib3\n",
            "    Found existing installation: urllib3 1.24.3\n",
            "    Uninstalling urllib3-1.24.3:\n",
            "      Successfully uninstalled urllib3-1.24.3\n",
            "  Attempting uninstall: requests\n",
            "    Found existing installation: requests 2.23.0\n",
            "    Uninstalling requests-2.23.0:\n",
            "      Successfully uninstalled requests-2.23.0\n",
            "\u001b[31mERROR: pip's dependency resolver does not currently take into account all the packages that are installed. This behaviour is the source of the following dependency conflicts.\n",
            "google-colab 1.0.0 requires requests~=2.23.0, but you have requests 2.26.0 which is incompatible.\n",
            "datascience 0.10.6 requires folium==0.2.1, but you have folium 0.8.3 which is incompatible.\u001b[0m\n",
            "Successfully installed requests-2.26.0 spotipy-2.19.0 urllib3-1.26.6\n"
          ]
        }
      ]
    },
    {
      "cell_type": "markdown",
      "metadata": {
        "id": "BrTCdGzjDTLD"
      },
      "source": [
        "Import libraries and create Spotify API client"
      ]
    },
    {
      "cell_type": "code",
      "metadata": {
        "id": "Z4O979g_A9-K",
        "colab": {
          "base_uri": "https://localhost:8080/",
          "height": 611
        },
        "outputId": "c527c6e9-2569-4585-f414-09f8be2137c9"
      },
      "source": [
        "import spotipy\n",
        "from spotipy.oauth2 import SpotifyClientCredentials\n",
        "\n",
        "id = ''\n",
        "secret = ''\n",
        "\n",
        "client_credentials_manager = SpotifyClientCredentials(id, secret)\n",
        "sp = spotipy.Spotify(client_credentials_manager=client_credentials_manager)"
      ],
      "execution_count": null,
      "outputs": [
        {
          "output_type": "error",
          "ename": "SpotifyOauthError",
          "evalue": "ignored",
          "traceback": [
            "\u001b[0;31m---------------------------------------------------------------------------\u001b[0m",
            "\u001b[0;31mSpotifyOauthError\u001b[0m                         Traceback (most recent call last)",
            "\u001b[0;32m<ipython-input-2-c3e3b33d73ca>\u001b[0m in \u001b[0;36m<module>\u001b[0;34m()\u001b[0m\n\u001b[1;32m      5\u001b[0m \u001b[0msecret\u001b[0m \u001b[0;34m=\u001b[0m \u001b[0;34m''\u001b[0m\u001b[0;34m\u001b[0m\u001b[0;34m\u001b[0m\u001b[0m\n\u001b[1;32m      6\u001b[0m \u001b[0;34m\u001b[0m\u001b[0m\n\u001b[0;32m----> 7\u001b[0;31m \u001b[0mclient_credentials_manager\u001b[0m \u001b[0;34m=\u001b[0m \u001b[0mSpotifyClientCredentials\u001b[0m\u001b[0;34m(\u001b[0m\u001b[0mid\u001b[0m\u001b[0;34m,\u001b[0m \u001b[0msecret\u001b[0m\u001b[0;34m)\u001b[0m\u001b[0;34m\u001b[0m\u001b[0;34m\u001b[0m\u001b[0m\n\u001b[0m\u001b[1;32m      8\u001b[0m \u001b[0msp\u001b[0m \u001b[0;34m=\u001b[0m \u001b[0mspotipy\u001b[0m\u001b[0;34m.\u001b[0m\u001b[0mSpotify\u001b[0m\u001b[0;34m(\u001b[0m\u001b[0mclient_credentials_manager\u001b[0m\u001b[0;34m=\u001b[0m\u001b[0mclient_credentials_manager\u001b[0m\u001b[0;34m)\u001b[0m\u001b[0;34m\u001b[0m\u001b[0;34m\u001b[0m\u001b[0m\n",
            "\u001b[0;32m/usr/local/lib/python3.7/dist-packages/spotipy/oauth2.py\u001b[0m in \u001b[0;36m__init__\u001b[0;34m(self, client_id, client_secret, proxies, requests_session, requests_timeout, cache_handler)\u001b[0m\n\u001b[1;32m    199\u001b[0m         \u001b[0msuper\u001b[0m\u001b[0;34m(\u001b[0m\u001b[0mSpotifyClientCredentials\u001b[0m\u001b[0;34m,\u001b[0m \u001b[0mself\u001b[0m\u001b[0;34m)\u001b[0m\u001b[0;34m.\u001b[0m\u001b[0m__init__\u001b[0m\u001b[0;34m(\u001b[0m\u001b[0mrequests_session\u001b[0m\u001b[0;34m)\u001b[0m\u001b[0;34m\u001b[0m\u001b[0;34m\u001b[0m\u001b[0m\n\u001b[1;32m    200\u001b[0m \u001b[0;34m\u001b[0m\u001b[0m\n\u001b[0;32m--> 201\u001b[0;31m         \u001b[0mself\u001b[0m\u001b[0;34m.\u001b[0m\u001b[0mclient_id\u001b[0m \u001b[0;34m=\u001b[0m \u001b[0mclient_id\u001b[0m\u001b[0;34m\u001b[0m\u001b[0;34m\u001b[0m\u001b[0m\n\u001b[0m\u001b[1;32m    202\u001b[0m         \u001b[0mself\u001b[0m\u001b[0;34m.\u001b[0m\u001b[0mclient_secret\u001b[0m \u001b[0;34m=\u001b[0m \u001b[0mclient_secret\u001b[0m\u001b[0;34m\u001b[0m\u001b[0;34m\u001b[0m\u001b[0m\n\u001b[1;32m    203\u001b[0m         \u001b[0mself\u001b[0m\u001b[0;34m.\u001b[0m\u001b[0mproxies\u001b[0m \u001b[0;34m=\u001b[0m \u001b[0mproxies\u001b[0m\u001b[0;34m\u001b[0m\u001b[0;34m\u001b[0m\u001b[0m\n",
            "\u001b[0;32m/usr/local/lib/python3.7/dist-packages/spotipy/oauth2.py\u001b[0m in \u001b[0;36mclient_id\u001b[0;34m(self, val)\u001b[0m\n\u001b[1;32m     92\u001b[0m     \u001b[0;34m@\u001b[0m\u001b[0mclient_id\u001b[0m\u001b[0;34m.\u001b[0m\u001b[0msetter\u001b[0m\u001b[0;34m\u001b[0m\u001b[0;34m\u001b[0m\u001b[0m\n\u001b[1;32m     93\u001b[0m     \u001b[0;32mdef\u001b[0m \u001b[0mclient_id\u001b[0m\u001b[0;34m(\u001b[0m\u001b[0mself\u001b[0m\u001b[0;34m,\u001b[0m \u001b[0mval\u001b[0m\u001b[0;34m)\u001b[0m\u001b[0;34m:\u001b[0m\u001b[0;34m\u001b[0m\u001b[0;34m\u001b[0m\u001b[0m\n\u001b[0;32m---> 94\u001b[0;31m         \u001b[0mself\u001b[0m\u001b[0;34m.\u001b[0m\u001b[0m_client_id\u001b[0m \u001b[0;34m=\u001b[0m \u001b[0m_ensure_value\u001b[0m\u001b[0;34m(\u001b[0m\u001b[0mval\u001b[0m\u001b[0;34m,\u001b[0m \u001b[0;34m\"client_id\"\u001b[0m\u001b[0;34m)\u001b[0m\u001b[0;34m\u001b[0m\u001b[0;34m\u001b[0m\u001b[0m\n\u001b[0m\u001b[1;32m     95\u001b[0m \u001b[0;34m\u001b[0m\u001b[0m\n\u001b[1;32m     96\u001b[0m     \u001b[0;34m@\u001b[0m\u001b[0mproperty\u001b[0m\u001b[0;34m\u001b[0m\u001b[0;34m\u001b[0m\u001b[0m\n",
            "\u001b[0;32m/usr/local/lib/python3.7/dist-packages/spotipy/oauth2.py\u001b[0m in \u001b[0;36m_ensure_value\u001b[0;34m(value, env_key)\u001b[0m\n\u001b[1;32m     68\u001b[0m             \u001b[0menv_val\u001b[0m\u001b[0;34m,\u001b[0m\u001b[0;34m\u001b[0m\u001b[0;34m\u001b[0m\u001b[0m\n\u001b[1;32m     69\u001b[0m         )\n\u001b[0;32m---> 70\u001b[0;31m         \u001b[0;32mraise\u001b[0m \u001b[0mSpotifyOauthError\u001b[0m\u001b[0;34m(\u001b[0m\u001b[0mmsg\u001b[0m\u001b[0;34m)\u001b[0m\u001b[0;34m\u001b[0m\u001b[0;34m\u001b[0m\u001b[0m\n\u001b[0m\u001b[1;32m     71\u001b[0m     \u001b[0;32mreturn\u001b[0m \u001b[0m_val\u001b[0m\u001b[0;34m\u001b[0m\u001b[0;34m\u001b[0m\u001b[0m\n\u001b[1;32m     72\u001b[0m \u001b[0;34m\u001b[0m\u001b[0m\n",
            "\u001b[0;31mSpotifyOauthError\u001b[0m: No client_id. Pass it or set a SPOTIPY_CLIENT_ID environment variable."
          ]
        }
      ]
    },
    {
      "cell_type": "markdown",
      "metadata": {
        "id": "oNmXP9q2HQ-k"
      },
      "source": [
        "Function to get the URI of all user playlists, returns a list of URIs.\n",
        "\n",
        "Variable **playlist_dict** (see cell 3) is assigned **sp.user_playlists()** which returns a dictionary describing all user playlists.\n",
        "\n",
        "**playlist_dict** contains keys href, items, limit, next, offset, previous, and total. The information for the playlists themselves (and the tracks inside of them) is assigned to **items_list** (see cell 4) using **playlist_dict['items']** which selects the list corresponding to the items key.\n",
        "\n",
        "**items_list** is a list of dictionaries (see cell 5) for every user playlist containing keys collaborative, description, external_urls, href, id, images, name, owner, primary_color, public, snapshot_id, tracks(leads to dictionary but does't give info about individual tracks, only contains keys href and total), type, and uri(!). "
      ]
    },
    {
      "cell_type": "code",
      "metadata": {
        "id": "5pR-XkxYv2CN"
      },
      "source": [
        ""
      ],
      "execution_count": null,
      "outputs": []
    },
    {
      "cell_type": "code",
      "metadata": {
        "colab": {
          "base_uri": "https://localhost:8080/"
        },
        "id": "BAGZdCporn78",
        "outputId": "6582fa83-2aaa-442c-d541-9b9e56334c38"
      },
      "source": [
        "playlist_dict = sp.user_playlists('andrewkim0303')\n",
        "\n",
        "print('Type of playlist_dict: ' + str(type(playlist_dict)))\n",
        "print('----------')\n",
        "\n",
        "for key in sp.user_playlists('andrewkim0303'):\n",
        "  print(key + \": points to a \" + str(type(sp.user_playlists('andrewkim0303')[key])))"
      ],
      "execution_count": null,
      "outputs": [
        {
          "output_type": "stream",
          "name": "stdout",
          "text": [
            "Type of playlist_dict: <class 'dict'>\n",
            "----------\n",
            "href: points to a <class 'str'>\n",
            "items: points to a <class 'list'>\n",
            "limit: points to a <class 'int'>\n",
            "next: points to a <class 'NoneType'>\n",
            "offset: points to a <class 'int'>\n",
            "previous: points to a <class 'NoneType'>\n",
            "total: points to a <class 'int'>\n"
          ]
        }
      ]
    },
    {
      "cell_type": "code",
      "metadata": {
        "colab": {
          "base_uri": "https://localhost:8080/"
        },
        "id": "AAvQ_ZojufyB",
        "outputId": "a26ed3ef-bbf7-47dc-b321-93f7a602c1c7"
      },
      "source": [
        "print('Type of items_list: ' + str(type(playlist_dict['items'])) + ', contains elements:')\n",
        "print('----------')\n",
        "\n",
        "# note: items_list is a list which contains a dictionary as a element for every playlist in a user's library\n",
        "for element in playlist_dict['items']:\n",
        "  print(str(element) + \": \" + str(type(element)))"
      ],
      "execution_count": null,
      "outputs": [
        {
          "output_type": "stream",
          "name": "stdout",
          "text": [
            "Type of items_list: <class 'list'>, contains elements:\n",
            "----------\n",
            "{'collaborative': False, 'description': '', 'external_urls': {'spotify': 'https://open.spotify.com/playlist/2ChBShQbUErAPQz4n4IfUJ'}, 'href': 'https://api.spotify.com/v1/playlists/2ChBShQbUErAPQz4n4IfUJ', 'id': '2ChBShQbUErAPQz4n4IfUJ', 'images': [{'height': None, 'url': 'https://i.scdn.co/image/ab67706c0000bebbfa75bd87b781155d1b93d155', 'width': None}], 'name': '\\U0001f972', 'owner': {'display_name': 'andr3w', 'external_urls': {'spotify': 'https://open.spotify.com/user/andrewkim0303'}, 'href': 'https://api.spotify.com/v1/users/andrewkim0303', 'id': 'andrewkim0303', 'type': 'user', 'uri': 'spotify:user:andrewkim0303'}, 'primary_color': None, 'public': True, 'snapshot_id': 'OTIsZTI1MDEzOGI0MjM3ZmZiMzhiY2I3MTZkNjdjNTFjMmVmYmM0OTRlNg==', 'tracks': {'href': 'https://api.spotify.com/v1/playlists/2ChBShQbUErAPQz4n4IfUJ/tracks', 'total': 65}, 'type': 'playlist', 'uri': 'spotify:playlist:2ChBShQbUErAPQz4n4IfUJ'}: <class 'dict'>\n",
            "{'collaborative': False, 'description': '', 'external_urls': {'spotify': 'https://open.spotify.com/playlist/0509om6o39tXSsB7B2q0K5'}, 'href': 'https://api.spotify.com/v1/playlists/0509om6o39tXSsB7B2q0K5', 'id': '0509om6o39tXSsB7B2q0K5', 'images': [{'height': None, 'url': 'https://i.scdn.co/image/ab67706c0000bebb78c677d6522710a767118008', 'width': None}], 'name': '🙃', 'owner': {'display_name': 'andr3w', 'external_urls': {'spotify': 'https://open.spotify.com/user/andrewkim0303'}, 'href': 'https://api.spotify.com/v1/users/andrewkim0303', 'id': 'andrewkim0303', 'type': 'user', 'uri': 'spotify:user:andrewkim0303'}, 'primary_color': None, 'public': True, 'snapshot_id': 'MzMsMTJkMDRlMjE4NWQ4MzliYTBjOGVjMzZjMGRiZGRiYzQyNDU4ZmY5NA==', 'tracks': {'href': 'https://api.spotify.com/v1/playlists/0509om6o39tXSsB7B2q0K5/tracks', 'total': 24}, 'type': 'playlist', 'uri': 'spotify:playlist:0509om6o39tXSsB7B2q0K5'}: <class 'dict'>\n",
            "{'collaborative': False, 'description': '', 'external_urls': {'spotify': 'https://open.spotify.com/playlist/72uJfhkracgDX9CQvR9tDx'}, 'href': 'https://api.spotify.com/v1/playlists/72uJfhkracgDX9CQvR9tDx', 'id': '72uJfhkracgDX9CQvR9tDx', 'images': [{'height': None, 'url': 'https://i.scdn.co/image/ab67706c0000bebbe486cafd0ef24570b25197f3', 'width': None}], 'name': '🏀 ', 'owner': {'display_name': 'andr3w', 'external_urls': {'spotify': 'https://open.spotify.com/user/andrewkim0303'}, 'href': 'https://api.spotify.com/v1/users/andrewkim0303', 'id': 'andrewkim0303', 'type': 'user', 'uri': 'spotify:user:andrewkim0303'}, 'primary_color': None, 'public': True, 'snapshot_id': 'MzYsNWYwMDEzZjhjZjU4ZjU5NjNjYWExNmVjNTI2OGVhNDg2YTQwNDQ4Ng==', 'tracks': {'href': 'https://api.spotify.com/v1/playlists/72uJfhkracgDX9CQvR9tDx/tracks', 'total': 24}, 'type': 'playlist', 'uri': 'spotify:playlist:72uJfhkracgDX9CQvR9tDx'}: <class 'dict'>\n",
            "{'collaborative': False, 'description': '', 'external_urls': {'spotify': 'https://open.spotify.com/playlist/6VSSbB0Aqa33ft7caOFZHX'}, 'href': 'https://api.spotify.com/v1/playlists/6VSSbB0Aqa33ft7caOFZHX', 'id': '6VSSbB0Aqa33ft7caOFZHX', 'images': [{'height': None, 'url': 'https://i.scdn.co/image/ab67706c0000bebbb378980216564e570a034df2', 'width': None}], 'name': '🤩', 'owner': {'display_name': 'andr3w', 'external_urls': {'spotify': 'https://open.spotify.com/user/andrewkim0303'}, 'href': 'https://api.spotify.com/v1/users/andrewkim0303', 'id': 'andrewkim0303', 'type': 'user', 'uri': 'spotify:user:andrewkim0303'}, 'primary_color': None, 'public': True, 'snapshot_id': 'MTUwLDcwOGFmOGZkZWYzNzBiYTc0ZTQ4MDJmOTVhYjA5NWYyYmJmMGRkNzQ=', 'tracks': {'href': 'https://api.spotify.com/v1/playlists/6VSSbB0Aqa33ft7caOFZHX/tracks', 'total': 58}, 'type': 'playlist', 'uri': 'spotify:playlist:6VSSbB0Aqa33ft7caOFZHX'}: <class 'dict'>\n",
            "{'collaborative': False, 'description': '', 'external_urls': {'spotify': 'https://open.spotify.com/playlist/6n6WSjtZ4cyeh0u2xyhVHO'}, 'href': 'https://api.spotify.com/v1/playlists/6n6WSjtZ4cyeh0u2xyhVHO', 'id': '6n6WSjtZ4cyeh0u2xyhVHO', 'images': [{'height': None, 'url': 'https://i.scdn.co/image/ab67706c0000bebbfbf131b37200dff4fa569a1f', 'width': None}], 'name': '👺', 'owner': {'display_name': 'andr3w', 'external_urls': {'spotify': 'https://open.spotify.com/user/andrewkim0303'}, 'href': 'https://api.spotify.com/v1/users/andrewkim0303', 'id': 'andrewkim0303', 'type': 'user', 'uri': 'spotify:user:andrewkim0303'}, 'primary_color': None, 'public': True, 'snapshot_id': 'NjAsZmVlZmFkMTM2MWRjYjE1OGU3OTM5NzRkOWI0YzFiYTc3YjVkNzQxOA==', 'tracks': {'href': 'https://api.spotify.com/v1/playlists/6n6WSjtZ4cyeh0u2xyhVHO/tracks', 'total': 27}, 'type': 'playlist', 'uri': 'spotify:playlist:6n6WSjtZ4cyeh0u2xyhVHO'}: <class 'dict'>\n"
          ]
        }
      ]
    },
    {
      "cell_type": "code",
      "metadata": {
        "colab": {
          "base_uri": "https://localhost:8080/"
        },
        "id": "aaU0NFqy2pUW",
        "outputId": "7afb5983-dfae-42c1-9632-3c5dfa6448f0"
      },
      "source": [
        "print('Every dictionary inside items_list includes keys: ')\n",
        "print('----------')\n",
        "\n",
        "for key in playlist_dict['items'][0]:  # index 0 is arbritrary, used only to show the keys shared in all dictionaries inside items_list\n",
        "  if (key == 'uri'):\n",
        "    print(key + ': points to a ' + str(type(playlist_dict['items'][0][key])) + ' <- **this is what we want**')\n",
        "  else:\n",
        "    print(key + ': points to a ' + str(type(playlist_dict['items'][0][key])))"
      ],
      "execution_count": null,
      "outputs": [
        {
          "output_type": "stream",
          "name": "stdout",
          "text": [
            "Every dictionary inside items_list includes keys: \n",
            "----------\n",
            "collaborative: points to a <class 'bool'>\n",
            "description: points to a <class 'str'>\n",
            "external_urls: points to a <class 'dict'>\n",
            "href: points to a <class 'str'>\n",
            "id: points to a <class 'str'>\n",
            "images: points to a <class 'list'>\n",
            "name: points to a <class 'str'>\n",
            "owner: points to a <class 'dict'>\n",
            "primary_color: points to a <class 'NoneType'>\n",
            "public: points to a <class 'bool'>\n",
            "snapshot_id: points to a <class 'str'>\n",
            "tracks: points to a <class 'dict'>\n",
            "type: points to a <class 'str'>\n",
            "uri: points to a <class 'str'> <- **this is what we want**\n"
          ]
        }
      ]
    },
    {
      "cell_type": "markdown",
      "metadata": {
        "id": "rLlpkuiB4-Nt"
      },
      "source": [
        "Summary: URI for every playlist in a user's library can be obtained through the uri key located inside of every playlist dictionary inside the items_list which is stored inside of the items key of the playlist_dict."
      ]
    },
    {
      "cell_type": "code",
      "metadata": {
        "colab": {
          "base_uri": "https://localhost:8080/"
        },
        "id": "Pna_Y7L9DfbZ",
        "outputId": "af22c914-6176-42d2-9845-b5f69c4f5a74"
      },
      "source": [
        "def get_playlist_uris(username):  # returns array of uris for every playlist in given username\n",
        "  playlist_uris = []\n",
        "\n",
        "  playlist_dict = sp.user_playlists(username)\n",
        "  items_list = sp.user_playlists(username)['items']\n",
        "  \n",
        "  for dict_element in items_list:\n",
        "    playlist_uris.append(dict_element['uri'])\n",
        "\n",
        "  return playlist_uris\n",
        "\n",
        "print(get_playlist_uris('andrewkim0303'))"
      ],
      "execution_count": null,
      "outputs": [
        {
          "output_type": "stream",
          "name": "stdout",
          "text": [
            "['spotify:playlist:2ChBShQbUErAPQz4n4IfUJ', 'spotify:playlist:0509om6o39tXSsB7B2q0K5', 'spotify:playlist:72uJfhkracgDX9CQvR9tDx', 'spotify:playlist:6VSSbB0Aqa33ft7caOFZHX', 'spotify:playlist:6n6WSjtZ4cyeh0u2xyhVHO']\n"
          ]
        }
      ]
    },
    {
      "cell_type": "markdown",
      "metadata": {
        "id": "VaYtoQHkBhpg"
      },
      "source": [
        "Follow same process as in get_playlist_uris with return of sp.playlist(playlist_uri)"
      ]
    },
    {
      "cell_type": "code",
      "metadata": {
        "colab": {
          "base_uri": "https://localhost:8080/"
        },
        "id": "4z7zEO7p7JBX",
        "outputId": "a99bb919-5f1a-4c90-9992-6e63487388b5"
      },
      "source": [
        "def get_songs(playlist_uri):  # returns array of uris for every song in given playlist uri\n",
        "  song_uris = []\n",
        "\n",
        "  playlist_info_dict = sp.playlist(playlist_uri)\n",
        "  tracks_info_dict = playlist_info_dict['tracks']\n",
        "  songs_info_list = tracks_info_dict['items']  # songs_info_list is a list of dictionaries for every song in the playlist with uri playlist_uri\n",
        "\n",
        "  for item in songs_info_list:\n",
        "    if item['track']:  # need to check if item['track'] is none or else .append() breaks\n",
        "      song_uris.append(item['track']['uri'])  # need to access track dictionary inside of songs_info_list to find uri key\n",
        "  \n",
        "  return song_uris\n",
        "\n",
        "print(get_songs('spotify:playlist:2ChBShQbUErAPQz4n4IfUJ'))"
      ],
      "execution_count": null,
      "outputs": [
        {
          "output_type": "stream",
          "name": "stdout",
          "text": [
            "['spotify:track:5AoDtTnCLCaxG3XhZZgOfw', 'spotify:track:6cmdeeOEeyZG9YaJ1WRhnJ', 'spotify:track:7kEgIPdRQIQRKD5XTPXbyL', 'spotify:track:7BUtoP9NXEe7MgWvIG2KGE', 'spotify:track:7AyxUdou9NrGU64bTc9dsT', 'spotify:track:4JsOSSVWNLaX9epUd9HI0Z', 'spotify:track:1DP0uwV6tMlCEfR61Mh7ki', 'spotify:track:3cZvGx80KaW9PrJ0OBez7o', 'spotify:track:7e256LLur2qADLXIJbsMEK', 'spotify:track:7HrE6HtYNBbGqp5GmHbFV0', 'spotify:track:780nTLMKXf6kX1B2yq1dFa', 'spotify:track:06EMBzxDm2hueehobAlMtm', 'spotify:track:2e460Sd7WZ6BQTNuzK3FwE', 'spotify:track:5i6gHFXg4aLK5xvc2jJJC5', 'spotify:track:7mFigNlS2dsKMhcmJyfpeg', 'spotify:track:5AkyvofVWUqds8x1HHgDU9', 'spotify:track:6e2q1I8aq1bhNlructWgta', 'spotify:track:5n368tNF47S70THlmpaGLf', 'spotify:track:0682jZkOYxyttK29Qrk6d0', 'spotify:track:629NRMzA7LTXSuzwG7R1Ag', 'spotify:track:7jb6GXWNyeGUKFaUCpmNX1', 'spotify:track:0BZj6AmUyA39EDPmfoEif4', 'spotify:track:6td501MwDVFewdz6qNOtG8', 'spotify:track:0CJcFbU8aO6Quj6KXXANMz', 'spotify:track:48XfojJC87VKLlUotYV0Gm', 'spotify:track:2zCORPZHF7g9SPjZfrGVuy', 'spotify:track:0wdDN5adB2lPpa8f0eXSfn', 'spotify:track:3P3UA61WRQqwCXaoFOTENd', 'spotify:track:2Akf1x68EZPx7H8zGlBWtR', 'spotify:track:42eewgMbNuAeSvvpiUufsv', 'spotify:track:0sIAiIw3ZrHSCusJEvtn2H', 'spotify:track:59aPed7AGGtbC4ro8Bc6BW', 'spotify:track:2gB3PuY1tGbfA4OaA7wMTl', 'spotify:track:6R2RvFpTVZLQf9dV3yPHKd', 'spotify:track:50eMP4iy5qLxcK7mHalDZw', 'spotify:track:4I7nphdetITxy92XDqVhAV', 'spotify:track:6kX452oUUNojKWNNuc1nqx', 'spotify:track:2BPXILn0MqOe5WroVXlvN1', 'spotify:track:2gSBybVvuphoJHPw0nkHGF', 'spotify:track:4cHvNhnmD0401ttgIPkUPT', 'spotify:track:0hqj5JBnFt1BHEz2UCFwrl', 'spotify:track:0AAZ3I1xQZBfLwqkCWb87e', 'spotify:track:5WEUUZ4UdbH2exVjtZCGUh', 'spotify:track:2RBuzNyLuV1jXU8qi84Hiy', 'spotify:track:4hD74G2sLm0lxcRW5Jnl6X', 'spotify:track:0WNGsQ1oAuHzNTk8jivBKW', 'spotify:track:6z1kLsntE7FuzKZHZWrXYN', 'spotify:track:3vVQLVPEIVUaYpYIR6gDGO', 'spotify:track:7lV0M6ulaapTNZJzx8stw0', 'spotify:track:5LKfNRLlofJS66YIP0J6BK', 'spotify:track:2I0LNCqlQpAPJlwOEWaefE', 'spotify:track:3O4ZjOswNySp5wcmglQhMj', 'spotify:track:7ePpQepOptZ1M9jRRydHsZ', 'spotify:track:1IdhC5rXh9tPOj7um8aRkt', 'spotify:track:6HgeeiHqVpxxFCB0bjBRT6', 'spotify:track:1m8b3KFsAiGyjRc90ZfEB9', 'spotify:track:1j5oDtBWVtNoVHMi2n6Fkz', 'spotify:track:0n2moJpAEWHwaPYYjkzMDl', 'spotify:track:1dAN9YSEram61KezA9X8lx', 'spotify:track:5qcLiptIhhdTqw2bcjIfaG', 'spotify:track:4s9G0ApVwrNfuGgDZYfKqp', 'spotify:track:4ySfsrGG2VLMEllTC1QYfI', 'spotify:track:1N0vwih6TUIb9kYtynvlRc', 'spotify:track:6rrVVbCszKeHycdg8uaaQZ', 'spotify:track:2fJ38mbJNnRtHwfQ1cgyjy']\n"
          ]
        }
      ]
    },
    {
      "cell_type": "markdown",
      "metadata": {
        "id": "xfersSO8_Kjz"
      },
      "source": [
        "Return list of all user song uris by calling get_playlist_uris(username) to get every user playlist uri and appending the return value of get_songs(playlist) on every element in **user_playlist_uris** to **user_song_uris**."
      ]
    },
    {
      "cell_type": "code",
      "metadata": {
        "colab": {
          "base_uri": "https://localhost:8080/"
        },
        "id": "65Zds_f-JuPB",
        "outputId": "bba4e442-45a8-47a5-9671-8102910ab336"
      },
      "source": [
        "def get_user_songs(username):\n",
        "  user_song_uris = []\n",
        "\n",
        "  user_playlist_uris = get_playlist_uris(username)\n",
        "\n",
        "  for playlist in user_playlist_uris:\n",
        "    user_song_uris += get_songs(playlist)\n",
        "\n",
        "  return user_song_uris\n",
        "\n",
        "print(get_user_songs('andrewkim0303'))"
      ],
      "execution_count": null,
      "outputs": [
        {
          "output_type": "stream",
          "name": "stdout",
          "text": [
            "['spotify:track:5AoDtTnCLCaxG3XhZZgOfw', 'spotify:track:6cmdeeOEeyZG9YaJ1WRhnJ', 'spotify:track:7kEgIPdRQIQRKD5XTPXbyL', 'spotify:track:7BUtoP9NXEe7MgWvIG2KGE', 'spotify:track:7AyxUdou9NrGU64bTc9dsT', 'spotify:track:4JsOSSVWNLaX9epUd9HI0Z', 'spotify:track:1DP0uwV6tMlCEfR61Mh7ki', 'spotify:track:3cZvGx80KaW9PrJ0OBez7o', 'spotify:track:7e256LLur2qADLXIJbsMEK', 'spotify:track:7HrE6HtYNBbGqp5GmHbFV0', 'spotify:track:780nTLMKXf6kX1B2yq1dFa', 'spotify:track:06EMBzxDm2hueehobAlMtm', 'spotify:track:2e460Sd7WZ6BQTNuzK3FwE', 'spotify:track:5i6gHFXg4aLK5xvc2jJJC5', 'spotify:track:7mFigNlS2dsKMhcmJyfpeg', 'spotify:track:5AkyvofVWUqds8x1HHgDU9', 'spotify:track:6e2q1I8aq1bhNlructWgta', 'spotify:track:5n368tNF47S70THlmpaGLf', 'spotify:track:0682jZkOYxyttK29Qrk6d0', 'spotify:track:629NRMzA7LTXSuzwG7R1Ag', 'spotify:track:7jb6GXWNyeGUKFaUCpmNX1', 'spotify:track:0BZj6AmUyA39EDPmfoEif4', 'spotify:track:6td501MwDVFewdz6qNOtG8', 'spotify:track:0CJcFbU8aO6Quj6KXXANMz', 'spotify:track:48XfojJC87VKLlUotYV0Gm', 'spotify:track:2zCORPZHF7g9SPjZfrGVuy', 'spotify:track:0wdDN5adB2lPpa8f0eXSfn', 'spotify:track:3P3UA61WRQqwCXaoFOTENd', 'spotify:track:2Akf1x68EZPx7H8zGlBWtR', 'spotify:track:42eewgMbNuAeSvvpiUufsv', 'spotify:track:0sIAiIw3ZrHSCusJEvtn2H', 'spotify:track:59aPed7AGGtbC4ro8Bc6BW', 'spotify:track:2gB3PuY1tGbfA4OaA7wMTl', 'spotify:track:6R2RvFpTVZLQf9dV3yPHKd', 'spotify:track:50eMP4iy5qLxcK7mHalDZw', 'spotify:track:4I7nphdetITxy92XDqVhAV', 'spotify:track:6kX452oUUNojKWNNuc1nqx', 'spotify:track:2BPXILn0MqOe5WroVXlvN1', 'spotify:track:2gSBybVvuphoJHPw0nkHGF', 'spotify:track:4cHvNhnmD0401ttgIPkUPT', 'spotify:track:0hqj5JBnFt1BHEz2UCFwrl', 'spotify:track:0AAZ3I1xQZBfLwqkCWb87e', 'spotify:track:5WEUUZ4UdbH2exVjtZCGUh', 'spotify:track:2RBuzNyLuV1jXU8qi84Hiy', 'spotify:track:4hD74G2sLm0lxcRW5Jnl6X', 'spotify:track:0WNGsQ1oAuHzNTk8jivBKW', 'spotify:track:6z1kLsntE7FuzKZHZWrXYN', 'spotify:track:3vVQLVPEIVUaYpYIR6gDGO', 'spotify:track:7lV0M6ulaapTNZJzx8stw0', 'spotify:track:5LKfNRLlofJS66YIP0J6BK', 'spotify:track:2I0LNCqlQpAPJlwOEWaefE', 'spotify:track:3O4ZjOswNySp5wcmglQhMj', 'spotify:track:7ePpQepOptZ1M9jRRydHsZ', 'spotify:track:1IdhC5rXh9tPOj7um8aRkt', 'spotify:track:6HgeeiHqVpxxFCB0bjBRT6', 'spotify:track:1m8b3KFsAiGyjRc90ZfEB9', 'spotify:track:1j5oDtBWVtNoVHMi2n6Fkz', 'spotify:track:0n2moJpAEWHwaPYYjkzMDl', 'spotify:track:1dAN9YSEram61KezA9X8lx', 'spotify:track:5qcLiptIhhdTqw2bcjIfaG', 'spotify:track:4s9G0ApVwrNfuGgDZYfKqp', 'spotify:track:4ySfsrGG2VLMEllTC1QYfI', 'spotify:track:1N0vwih6TUIb9kYtynvlRc', 'spotify:track:6rrVVbCszKeHycdg8uaaQZ', 'spotify:track:2fJ38mbJNnRtHwfQ1cgyjy', 'spotify:track:748mdHapucXQri7IAO8yFK', 'spotify:track:017PF4Q3l4DBUiWoXk4OWT', 'spotify:track:463CkQjx2Zk1yXoBuierM9', 'spotify:track:4JE6agBLHGA5TaF6FlqfBD', 'spotify:track:1Xi84slp6FryDSCbzq4UCD', 'spotify:track:161DnLWsx1i3u1JT05lzqU', 'spotify:track:0nJW01T7XtvILxQgC5J7Wh', 'spotify:track:4HBZA5flZLE435QTztThqH', 'spotify:track:6sI8Q7TTJeA9exw6hxEqq3', 'spotify:track:5O2P9iiztwhomNh8xkR9lJ', 'spotify:track:2P91MQbaiQOfbiz9VqhqKQ', 'spotify:track:7ArrTJ1LwcGAlEO65LUQ7i', 'spotify:track:5iFwAOB2TFkPJk8sMlxP8g', 'spotify:track:6E6DXpiRT7ZgQzdYlBjWd4', 'spotify:track:4xqrdfXkTW4T0RauPLv3WA', 'spotify:track:50kpGaPAhYJ3sGmk6vplg0', 'spotify:track:5HCyWlXZPP0y6Gqq8TgA20', 'spotify:track:3Dv1eDb0MEgF93GpLXlucZ', 'spotify:track:2bgTY4UwhfBYhGT4HUYStN', 'spotify:track:4saklk6nie3yiGePpBwUoc', 'spotify:track:4H7WNRErSbONkM06blBoGc', 'spotify:track:4y4spB9m0Q6026KfkAvy9Q', 'spotify:track:42ZrMq4BKsWDrrbMnMRYaK', 'spotify:track:2k9N4caeCIJLOWwWwssrEM', 'spotify:track:1jaTQ3nqY3oAAYyCTbIvnM', 'spotify:track:21jGcNKet2qwijlDFuPiPb', 'spotify:track:7m9OqQk4RVRkw9JJdeAw96', 'spotify:track:6BeNMWgPO9ClCzOxOE0Bcm', 'spotify:track:5ry2OE6R2zPQFDO85XkgRb', 'spotify:track:0t3ZvGKlmYmVsDzBJAXK8C', 'spotify:track:0fySG6A6qLE8IvDpayb5bM', 'spotify:track:5W8jRrZ6tWrTrqnKRtIQBf', 'spotify:track:6Ozh9Ok6h4Oi1wUSLtBseN', 'spotify:track:5vGLcdRuSbUhD8ScwsGSdA', 'spotify:track:4DuUwzP4ALMqpquHU0ltAB', 'spotify:track:79s5XnCN4TJKTVMSmOx8Ep', 'spotify:track:3wwo0bJvDSorOpNfzEkfXx', 'spotify:track:6lruHh1jF7ezgbLv72xYmf', 'spotify:track:1D2L6MefbXon28PzIk9I3r', 'spotify:track:3GVkPk8mqxz0itaAriG1L7', 'spotify:track:1sbEeUY8KsdvgiQi26JBFz', 'spotify:track:5qHirGR7M9tdm6C17DlzSY', 'spotify:track:40uMIn2zJLAQhNXghRjBed', 'spotify:track:7xQAfvXzm3AkraOtGPWIZg', 'spotify:track:2aWVaW1p2kUc5yuKwBmRJi', 'spotify:track:6p8NuHm8uCGnn2Dtbtf7zE', 'spotify:track:6jy9yJfgCsMHdu2Oz4BGKX', 'spotify:track:34D6FJysnQioVingDKufuf', 'spotify:track:5bN1ltT5BhVMnszmgsqGD5', 'spotify:track:6VTTUQJR8u5wATWCTeJXGz', 'spotify:track:0pYacDCZuRhcrwGUA5nTBe', 'spotify:track:1A7pDII9Zy07oCDW3xldgy', 'spotify:track:3h3fLFPHPIaH1qtItyOhfM', 'spotify:track:0LE7qfUeJLORKEVurAvy6u', 'spotify:track:5hDA8Y4pdY7miyTZkLUk0d', 'spotify:track:5vLh2E2BqadttPtaylJno1', 'spotify:track:3eZD5DZGibwxMAOaCMBg3k', 'spotify:track:5LiWJsSSjZh7Y3hqml18Ki', 'spotify:track:4eVkn18rN4GguUWOsR6Use', 'spotify:track:39EXZNMxb4RBHlRjnRaOKp', 'spotify:track:4ywK2HYVU27ZdwuPrQ4uTG', 'spotify:track:3TZ7NHkMT82AhwuYsd00Hz', 'spotify:track:5nCwjUUsmBuNZKn9Xu10Os', 'spotify:track:5hnbE5BF2e8BCk9OMR1UVC', 'spotify:track:4qjwTpArlv5GIT76XxilWR', 'spotify:track:4BMbbfwW9GLl9b05ecYKVa', 'spotify:track:6kX452oUUNojKWNNuc1nqx', 'spotify:track:2nJDePK69THatYkjkjQFE8', 'spotify:track:4qzBepJAKtYu4T1GDtBZZc', 'spotify:track:3uA8SjMyDtwtt0jLPMQbVD', 'spotify:track:3P3UA61WRQqwCXaoFOTENd', 'spotify:track:7zQfolCu9NJF1M8rwPOERI', 'spotify:track:2Akf1x68EZPx7H8zGlBWtR', 'spotify:track:3JBnDOUd18QKjDqSYuOfpm', 'spotify:track:3hm4axDodp2jFEDohQfXxV', 'spotify:track:6F46KwTU9PJ5Obz37joaYm', 'spotify:track:3SfbB0Y3saMIQnNctxMVhj', 'spotify:track:4Sav8RLaXMBpTZX6xNPj0K', 'spotify:track:2xLy4vn6hDvn2vVaomeh27', 'spotify:track:5Dd9WasHQf1Xeau6oyPPLT', 'spotify:track:45iIgtHZDzpCqsT35HRCGc', 'spotify:track:67C8NRYbI2XwiYilezmxZQ', 'spotify:track:06L1apH8kLF47dbhZ4Zg9A', 'spotify:track:7rxnGhTlqU3FRUzd8F4R3d', 'spotify:track:3XEjswcSomkIsgbuNunFmQ', 'spotify:track:1dAN9YSEram61KezA9X8lx', 'spotify:track:1GIQoIFzecilRJaZCVBWq3', 'spotify:track:0c2E2zcsp8EoWmfw8YQphH', 'spotify:track:32h6yQGn4oAhZ0HRsTMX26', 'spotify:track:4Dr2hJ3EnVh2Aaot6fRwDO', 'spotify:track:4NPARrLIbtMl29ZJv8ESr2', 'spotify:track:2zlgwqw8BLX2JGB76LIFeF', 'spotify:track:4KL3FJYexPrPuMdPagHPXp', 'spotify:track:4hHRHdPzKTpobGyyW9ipNg', 'spotify:track:04N4Wfxd7nB3dLV2amKdc0', 'spotify:track:54oqfjjT3vSqS72LMmTdSI', 'spotify:track:3dvPPS5KXskeRbrSY80gwt', 'spotify:track:3p6hnejEQYXkiTO1lAzVc0', 'spotify:track:27zrFrtUtWl2urlvjOn5xc', 'spotify:track:2LowwiemmGMzzNSH1PJprK', 'spotify:track:6m96zMB8BrLrpyT7NvApxB', 'spotify:track:3NxuezMdSLgt4OwHzBoUhL', 'spotify:track:6mzF8HvHdVrzJNd8M1uFCS', 'spotify:track:5cQB9fbuQCz4muQUFkv3rR', 'spotify:track:5dhZMPumW81ipov9bpz6nu', 'spotify:track:1D6lK8qADoErTTLkY4YBfM', 'spotify:track:6y4GYuZszeXNOXuBFsJlos', 'spotify:track:72uSoNIf7eScfGZFQjNHrR', 'spotify:track:3IDF7N86lrcWaJEt9C1gbS', 'spotify:track:1f6HC5dTviPmopQjYi4uVT', 'spotify:track:3dPtXHP0oXQ4HCWHsOA9js', 'spotify:track:5ArBY68oLECgcHXDGFxa7u', 'spotify:track:7AEcphXUR52QGYxdZ8TDVI', 'spotify:track:4EZytiJfGIKolH85Nc6G8Q', 'spotify:track:5IzZpz0vA73IIjqFPpXSXP', 'spotify:track:23DbzwNJSLo7nkSWjODMvY', 'spotify:track:3YfBeHLGH9EhRPVHYaQMyD', 'spotify:track:3GIhgMadHu26VHLEeXviGD', 'spotify:track:6qzTbAFDX82BxJIBbdKPH8', 'spotify:track:7GOmxsJPMKQ7GAx5WtChB7', 'spotify:track:1Cdz1ehTv3zCKqmGbPI2Vo', 'spotify:track:5uO1I9RPHQLDBmsAtFHleG', 'spotify:track:7LhkdZ9OmCKvW597NghPpl', 'spotify:track:0Krjv3PrcZtAzRFx33zxZB', 'spotify:track:0hHc2igYYlSUyZdByauJmB', 'spotify:track:5aHfGUxRec6c41luxkDqhX', 'spotify:track:5tXOuIoDO0ZtGLijEOD6HZ', 'spotify:track:3gFQOMoUwlR6aUZj81gCzu', 'spotify:track:4dHOnPucB5VBYq3gjRtYy9', 'spotify:track:4ESlJoWBExtFumtISwPabd', 'spotify:track:1jvl0FVZaHco450e6Hm2Zl', 'spotify:track:1m3qFOyT5u01Yd2WBVX0cI', 'spotify:track:7aBvy8mGCK5nvPc7k4Na0t']\n"
          ]
        }
      ]
    },
    {
      "cell_type": "markdown",
      "metadata": {
        "id": "Chg2EkS3-4fl"
      },
      "source": [
        "Finally, common_songs are found by converting song uri lists to sets and intersecting them."
      ]
    },
    {
      "cell_type": "code",
      "metadata": {
        "colab": {
          "base_uri": "https://localhost:8080/"
        },
        "id": "gTY1af-gPu91",
        "outputId": "4af7deb4-3963-482f-a475-526984dde77f"
      },
      "source": [
        "usernames_string = input('Enter usernames seperated by commas: ')\n",
        "\n",
        "# need to take out all whitespace\n",
        "usernames_string = ''.join(usernames_string.split())\n",
        "\n",
        "username_list = usernames_string.split(',')\n",
        "\n",
        "song_list_list = []\n",
        "\n",
        "for username in username_list:\n",
        "  song_list_list.append(get_user_songs(username))\n",
        "\n",
        "common_songs = list(set.intersection(*map(set, song_list_list)))\n",
        "\n",
        "print('Found ' + str(len(common_songs)) + ' common songs!\\n----------')\n",
        "for song in common_songs:\n",
        "  print(song + ' -> ' + sp.track(song)['name'])"
      ],
      "execution_count": null,
      "outputs": [
        {
          "output_type": "stream",
          "name": "stdout",
          "text": [
            "Enter usernames seperated by commas: eunicek3927, rkim0607\n",
            "Found 14 common songs!\n",
            "----------\n",
            "spotify:track:5i6gHFXg4aLK5xvc2jJJC5 -> If It Is You\n",
            "spotify:track:626C6JMdKevCTv10pLeHJf -> This Night\n",
            "spotify:track:3O4ZjOswNySp5wcmglQhMj -> Traffic Light\n",
            "spotify:track:5n368tNF47S70THlmpaGLf -> Rain\n",
            "spotify:track:5Hkk4YCNakpuOpbZQo67fE -> Wild Flower\n",
            "spotify:track:06EMBzxDm2hueehobAlMtm -> Ending Scene\n",
            "spotify:track:2qcAEHuRQRtnmMMroqpgdB -> us (feat. meenoi)\n",
            "spotify:track:0O5bo4CqoUcXGyRPoeTHSB -> 180 Degree\n",
            "spotify:track:3Ml2s37uS9jqRM2R3bfDiB -> Every day, Every Moment\n",
            "spotify:track:3JxRNkoNmAcPgnA5HSnKiz -> Make the Move\n",
            "spotify:track:4AHNi316rl3KI3hKIsdxZe -> Restless\n",
            "spotify:track:6e2q1I8aq1bhNlructWgta -> So long\n",
            "spotify:track:5AkyvofVWUqds8x1HHgDU9 -> Me After You\n",
            "spotify:track:2BPXILn0MqOe5WroVXlvN1 -> I Will Go To You Like the First Snow\n"
          ]
        }
      ]
    }
  ]
}